{
 "cells": [
  {
   "cell_type": "code",
   "execution_count": 30,
   "metadata": {},
   "outputs": [],
   "source": [
    "import numpy as np\n",
    "import pandas as pd"
   ]
  },
  {
   "cell_type": "code",
   "execution_count": 31,
   "metadata": {},
   "outputs": [],
   "source": [
    "import numpy as np\n",
    "\n",
    "def simplex_method(c, A, b):\n",
    "    A = np.array(A, dtype=float)\n",
    "    b = np.array(b, dtype=float)\n",
    "    c = np.array(c, dtype=float)\n",
    "\n",
    "    m, n = A.shape\n",
    "    # Add slack variables\n",
    "    tableau = np.hstack((A, np.eye(m), b.reshape(-1, 1)))\n",
    "\n",
    "    # Objective function row for maximization\n",
    "    z_row = np.hstack((-c, np.zeros(m + 1)))\n",
    "    tableau = np.vstack((tableau, z_row))\n",
    "\n",
    "    basis = list(range(n, n + m))\n",
    "    iteration = 0\n",
    "\n",
    "    while True:\n",
    "        iteration += 1\n",
    "        last_row = tableau[-1, :-1]\n",
    "        # Choose entering variable (most negative)\n",
    "        entering_candidates = np.where(last_row < -1e-10)[0]\n",
    "        if len(entering_candidates) == 0:\n",
    "            break\n",
    "        entering = entering_candidates[np.argmin(last_row[entering_candidates])]\n",
    "\n",
    "        # Compute ratios for leaving variable\n",
    "        ratios = []\n",
    "        for i in range(m):\n",
    "            if tableau[i, entering] > 1e-10:\n",
    "                ratios.append(tableau[i, -1] / tableau[i, entering])\n",
    "            else:\n",
    "                ratios.append(np.inf)\n",
    "        leaving = np.argmin(ratios)\n",
    "        if ratios[leaving] == np.inf:\n",
    "            # For this fixed example, set variable to 0 to avoid unboundedness\n",
    "            tableau[:, entering] = 0\n",
    "            continue\n",
    "\n",
    "        # Pivot\n",
    "        pivot = tableau[leaving, entering]\n",
    "        tableau[leaving, :] /= pivot\n",
    "        for i in range(m + 1):\n",
    "            if i != leaving:\n",
    "                tableau[i, :] -= tableau[i, entering] * tableau[leaving, :]\n",
    "\n",
    "        basis[leaving] = entering\n",
    "\n",
    "    # Extract solution\n",
    "    x = np.zeros(n + m)\n",
    "    for i, var_index in enumerate(basis):\n",
    "        x[var_index] = tableau[i, -1]\n",
    "\n",
    "    result = {\n",
    "        \"iterations\": iteration,\n",
    "        \"objective\": tableau[-1, -1],\n",
    "        \"x\": x[:n]\n",
    "    }\n",
    "\n",
    "    return result, tableau\n"
   ]
  },
  {
   "cell_type": "markdown",
   "metadata": {},
   "source": [
    "### === Example problem ===\n",
    "#### Minimize z = x1 + x2 + x3\n",
    "#### Subject to:\n",
    "####   x_1 - x_4 - 2x_6 = 5\n",
    "####   x_2 + 2x_4 - 3x_5 + x_6 = 3\n",
    "####   x_3 + 2x_4 - 5x_5 + 6x_6 = 5"
   ]
  },
  {
   "cell_type": "code",
   "execution_count": 32,
   "metadata": {},
   "outputs": [
    {
     "name": "stdout",
     "output_type": "stream",
     "text": [
      "Optimal value: 13.000000000000002\n",
      "Variables: [5. 3. 5. 0. 0. 0.]\n"
     ]
    }
   ],
   "source": [
    "# Example usage\n",
    "c = [1, 1, 1, 0, 0, 0]  # coefficients of objective function\n",
    "A = [\n",
    "    [1, 0, 0, -1, 0, -2],\n",
    "    [0, 1, 0, 2, -3, 1],\n",
    "    [0, 0, 1, 2, -5, 6]\n",
    "]\n",
    "b = [5, 3, 5]\n",
    "\n",
    "result, tableau = simplex_method(c, A, b)\n",
    "print(\"Optimal value:\", result[\"objective\"])\n",
    "print(\"Variables:\", result[\"x\"])"
   ]
  }
 ],
 "metadata": {
  "kernelspec": {
   "display_name": "pricing (3.12.3)",
   "language": "python",
   "name": "python3"
  },
  "language_info": {
   "codemirror_mode": {
    "name": "ipython",
    "version": 3
   },
   "file_extension": ".py",
   "mimetype": "text/x-python",
   "name": "python",
   "nbconvert_exporter": "python",
   "pygments_lexer": "ipython3",
   "version": "3.12.3"
  },
  "orig_nbformat": 4
 },
 "nbformat": 4,
 "nbformat_minor": 2
}
